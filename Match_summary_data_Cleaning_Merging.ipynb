{
 "cells": [
  {
   "cell_type": "code",
   "execution_count": 1,
   "id": "30776a61-7345-498f-8d4d-cd073537d29b",
   "metadata": {},
   "outputs": [],
   "source": [
    "import pandas as pd\n",
    "import numpy as np"
   ]
  },
  {
   "cell_type": "code",
   "execution_count": 2,
   "id": "d6b7a138-e021-48ca-847a-1a2565718734",
   "metadata": {},
   "outputs": [
    {
     "data": {
      "text/plain": [
       "(74, 156)"
      ]
     },
     "execution_count": 2,
     "metadata": {},
     "output_type": "execute_result"
    }
   ],
   "source": [
    "new_ms_df = pd.read_csv('Output/203-matchschedule-MatchSummary.csv')\n",
    "new_ms_df.shape"
   ]
  },
  {
   "cell_type": "code",
   "execution_count": 3,
   "id": "90f19db1-0701-4482-a742-84d12f72c022",
   "metadata": {},
   "outputs": [
    {
     "data": {
      "text/plain": [
       "(222, 68)"
      ]
     },
     "execution_count": 3,
     "metadata": {},
     "output_type": "execute_result"
    }
   ],
   "source": [
    "old_ms_df = pd.read_csv('Old_data/Match_Summary.csv')\n",
    "old_ms_df.shape"
   ]
  },
  {
   "cell_type": "code",
   "execution_count": 4,
   "id": "04236b28-70d0-4a26-9735-79cfb3ea543d",
   "metadata": {},
   "outputs": [
    {
     "data": {
      "text/plain": [
       "(74, 65)"
      ]
     },
     "execution_count": 4,
     "metadata": {},
     "output_type": "execute_result"
    }
   ],
   "source": [
    "columns_to_drop = [\n",
    "    \"ChasingText\", \"BowlerWickets\", \"BowlerSR\", \"BowlerRuns\", \"BowlerOvers\", \"BowlerMaidens\",\n",
    "    \"BowlerImage\", \"BowlerEconomy\", \"6Summary\", \"6RunRate\", \"6FallWickets\", \"6FallScore\",\n",
    "    \"6FallOvers\", \"5Summary\", \"5RunRate\", \"5FallWickets\", \"5FallScore\", \"5FallOvers\",\n",
    "    \"4Summary\", \"4RunRate\", \"4FallWickets\", \"4FallScore\", \"4FallOvers\", \"3Summary\",\n",
    "    \"3RunRate\", \"3rdProjectedScore\", \"3FallWickets\", \"3FallScore\", \"3FallOvers\",\n",
    "    \"2RunRate\", \"2ndProjectedScore\", \"2FallWickets\", \"2FallScore\", \"2FallOvers\",\n",
    "    \"1RunRate\", \"1FallWickets\", \"1FallScore\", \"1FallOvers\", \"WeatherIcon\",\n",
    "    \"VideoScorecard\", \"TimeZone\", \"ThirdInningsSecondBattingName\", \"ThirdInningsSecondBattingID\",\n",
    "    \"ThirdInningsFirstBattingName\", \"ThirdInningsFirstBattingID\", \"TempUpdatedDate\",\n",
    "    \"Temperature\", \"TeamType\", \"T20ProMatchID\", \"StrikerSR\", \"StrikerSixes\",\n",
    "    \"StrikerRuns\", \"StrikerImage\", \"StrikerFours\", \"StrikerBalls\",\n",
    "    \"SecondInningsSecondBattingName\", \"SecondInningsSecondBattingID\",\n",
    "    \"SecondInningsFirstBattingName\", \"SecondInningsFirstBattingID\",\n",
    "    \"ROUND_ID\", \"ProjectedScore\", \"PreMatchCommentary\", \"PostMatchCommentary\",\n",
    "    \"NonStrikerSR\", \"NonStrikerSixes\", \"NonStrikerRuns\", \"NonStrikerImage\",\n",
    "    \"NonStrikerFours\", \"NonStrikerBalls\", \"MatchTypeName\", \"MatchTypeID\",\n",
    "    \"MatchStatus\", \"MatchProgress\", \"MatchBreakComments\", \"LiveStream\",\n",
    "    \"GMTMatchEndTime\", \"GMTMatchEndDate\", \"GMTMatchDate\", \"FlickrAlbumID\",\n",
    "    \"Flag\", \"FBURL\", \"DivisionID\", \"CurrentStrikerName\", \"CurrentStrikerID\",\n",
    "    \"CurrentNonStrikerName\", \"CurrentNonStrikerID\", \"CurrentBowlerName\",\n",
    "    \"CurrentBowlerID\", \"ClientMatchID\", 'MatchHomeTeamLogo', 'MatchAwayTeamLogo'\n",
    "]\n",
    "\n",
    "# Drop the columns\n",
    "new_ms_df.drop(columns=columns_to_drop, inplace=True, errors='ignore')\n",
    "new_ms_df.shape"
   ]
  },
  {
   "cell_type": "code",
   "execution_count": 5,
   "id": "ac8f5b6c-2364-48df-9665-80ad8debb109",
   "metadata": {},
   "outputs": [],
   "source": [
    "new_ms_df['Season'] = 2025"
   ]
  },
  {
   "cell_type": "code",
   "execution_count": 6,
   "id": "32bdb406-77e2-40b3-931a-c3a00bf5095e",
   "metadata": {},
   "outputs": [
    {
     "data": {
      "text/plain": [
       "(74, 67)"
      ]
     },
     "execution_count": 6,
     "metadata": {},
     "output_type": "execute_result"
    }
   ],
   "source": [
    "# Define conditions for 'Day/Night' column\n",
    "new_ms_df['Day/Night'] = new_ms_df['MatchTime'].apply(lambda x: 'Night' if x in [\"20:00:00\", \"19:30:00\"] \n",
    "                                                      else 'Day' if x in [\"15:30:00\", \"19:30:00\"] \n",
    "                                                      else 'Unknown')\n",
    "new_ms_df.shape"
   ]
  },
  {
   "cell_type": "code",
   "execution_count": 7,
   "id": "e1e74034-742a-403c-957a-2a585f9a2e43",
   "metadata": {},
   "outputs": [
    {
     "data": {
      "text/plain": [
       "(74, 68)"
      ]
     },
     "execution_count": 7,
     "metadata": {},
     "output_type": "execute_result"
    }
   ],
   "source": [
    "# Define mapping of MatchTypeID to MatchType2\n",
    "match_type_mapping = {\n",
    "    74: \"Final\",\n",
    "    73: \"Qualifier 2\",\n",
    "    72: \"Eliminator\",\n",
    "    71: \"Qualifier 1\"\n",
    "}\n",
    "\n",
    "# Apply mapping, setting the default value to \"Regular\"\n",
    "new_ms_df['MatchType2'] = new_ms_df['MatchRow'].map(match_type_mapping).fillna(\"Regular\")\n",
    "new_ms_df.shape"
   ]
  },
  {
   "cell_type": "code",
   "execution_count": 8,
   "id": "6d23a9cc-91d2-4cac-8cee-d66c5a80ea2d",
   "metadata": {},
   "outputs": [
    {
     "data": {
      "text/plain": [
       "(296, 68)"
      ]
     },
     "execution_count": 8,
     "metadata": {},
     "output_type": "execute_result"
    }
   ],
   "source": [
    "new_df = pd.concat([old_ms_df, new_ms_df], ignore_index=True)\n",
    "new_df.shape"
   ]
  },
  {
   "cell_type": "code",
   "execution_count": 9,
   "id": "52bef532-1f3c-4821-96b0-766bd670ac5a",
   "metadata": {},
   "outputs": [],
   "source": [
    "new_df.to_csv('Match_Summary.csv', index=False)"
   ]
  },
  {
   "cell_type": "code",
   "execution_count": null,
   "id": "52bf3111-d1bf-47dc-83e0-d6123dfb4535",
   "metadata": {},
   "outputs": [],
   "source": []
  }
 ],
 "metadata": {
  "kernelspec": {
   "display_name": "Python 3 (ipykernel)",
   "language": "python",
   "name": "python3"
  },
  "language_info": {
   "codemirror_mode": {
    "name": "ipython",
    "version": 3
   },
   "file_extension": ".py",
   "mimetype": "text/x-python",
   "name": "python",
   "nbconvert_exporter": "python",
   "pygments_lexer": "ipython3",
   "version": "3.10.10"
  }
 },
 "nbformat": 4,
 "nbformat_minor": 5
}
