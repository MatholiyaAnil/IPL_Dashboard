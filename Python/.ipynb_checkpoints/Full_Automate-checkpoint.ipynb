{
 "cells": [
  {
   "cell_type": "markdown",
   "id": "2e573ce3-76d2-4bc4-8663-5798ffcbacca",
   "metadata": {},
   "source": [
    "### 1. 2025_Matchdata_Scraper"
   ]
  },
  {
   "cell_type": "code",
   "execution_count": 1,
   "id": "d7b25279-be35-4444-81e2-692ba85590d4",
   "metadata": {},
   "outputs": [
    {
     "name": "stdout",
     "output_type": "stream",
     "text": [
      "File saved: Output\\1799-Innings1-OverHistory.csv\n",
      "File saved: Output\\1800-Innings1-OverHistory.csv\n",
      "File saved: Output\\1801-Innings1-OverHistory.csv\n",
      "File saved: Output\\1802-Innings1-OverHistory.csv\n",
      "File saved: Output\\1803-Innings1-OverHistory.csv\n"
     ]
    }
   ],
   "source": [
    "import os\n",
    "import requests\n",
    "import json\n",
    "import re\n",
    "import pandas as pd\n",
    "\n",
    "# Base URL for data\n",
    "base_url = 'https://ipl-stats-sports-mechanic.s3.ap-south-1.amazonaws.com/ipl/feeds/'\n",
    "\n",
    "# Match ID list\n",
    "Matchid = [1799, 1800, 1801, 1802, 1803, 1804, 1805, 1806, 1807, 1808, 1809, 1810, 1811, 1812]\n",
    "\n",
    "# Generate URLs for innings data\n",
    "new_urls = [f'{base_url}{match_id}-Innings1.js' for match_id in Matchid]\n",
    "\n",
    "# Create \"Output\" directory if it doesn't exist\n",
    "output_folder = \"Output\"\n",
    "os.makedirs(output_folder, exist_ok=True)\n",
    "\n",
    "for url in new_urls:\n",
    "    response = requests.get(url)\n",
    "\n",
    "    # Extract JSON data from JavaScript callback response\n",
    "    start_index = response.text.find('(') + 1\n",
    "    end_index = response.text.rfind(')')\n",
    "    json_data = response.text[start_index:end_index]\n",
    "    data = json.loads(json_data)\n",
    "\n",
    "    if \"OverHistory\" in data[\"Innings1\"]:\n",
    "        over_history = data[\"Innings1\"][\"OverHistory\"]\n",
    "\n",
    "        # Convert data into DataFrame\n",
    "        df = pd.DataFrame(over_history)\n",
    "\n",
    "        # Extract filename from URL\n",
    "        file_name = re.search(r'/(\\d+-\\w+)\\.', url).group(1)  # Extracts '1799-Innings1'\n",
    "        csv_file_name = os.path.join(output_folder, f\"{file_name}-OverHistory.csv\")  # Save in Output folder\n",
    "\n",
    "        # Save DataFrame as CSV\n",
    "        df.to_csv(csv_file_name, index=False)\n",
    "\n",
    "        print(f\"File saved: {csv_file_name}\")"
   ]
  },
  {
   "cell_type": "code",
   "execution_count": 2,
   "id": "e38b3bea-c9b8-4131-a8bd-093e91c3aa23",
   "metadata": {},
   "outputs": [
    {
     "name": "stdout",
     "output_type": "stream",
     "text": [
      "File saved: Output\\1799-Innings2-OverHistory.csv\n",
      "File saved: Output\\1800-Innings2-OverHistory.csv\n",
      "File saved: Output\\1801-Innings2-OverHistory.csv\n",
      "File saved: Output\\1802-Innings2-OverHistory.csv\n",
      "File saved: Output\\1803-Innings2-OverHistory.csv\n"
     ]
    }
   ],
   "source": [
    "import os\n",
    "import requests\n",
    "import json\n",
    "import re\n",
    "import pandas as pd\n",
    "\n",
    "# Base URL for data\n",
    "base_url = 'https://ipl-stats-sports-mechanic.s3.ap-south-1.amazonaws.com/ipl/feeds/'\n",
    "\n",
    "# Match ID list\n",
    "Matchid = [1799, 1800, 1801, 1802, 1803, 1804, 1805, 1806, 1807, 1808, 1809, 1810, 1811, 1812]\n",
    "\n",
    "# Generate URLs for innings data\n",
    "new_urls = [f'{base_url}{match_id}-Innings2.js' for match_id in Matchid]\n",
    "\n",
    "# Create \"Output\" directory if it doesn't exist\n",
    "output_folder = \"Output\"\n",
    "os.makedirs(output_folder, exist_ok=True)\n",
    "\n",
    "for url in new_urls:\n",
    "    response = requests.get(url)\n",
    "\n",
    "    # Extract JSON data from JavaScript callback response\n",
    "    start_index = response.text.find('(') + 1\n",
    "    end_index = response.text.rfind(')')\n",
    "    json_data = response.text[start_index:end_index]\n",
    "    data = json.loads(json_data)\n",
    "\n",
    "    if \"OverHistory\" in data[\"Innings2\"]:\n",
    "        over_history = data[\"Innings2\"][\"OverHistory\"]\n",
    "\n",
    "        # Convert data into DataFrame\n",
    "        df = pd.DataFrame(over_history)\n",
    "\n",
    "        # Extract filename from URL\n",
    "        file_name = re.search(r'/(\\d+-\\w+)\\.', url).group(1)  # Extracts '1799-Innings2'\n",
    "        csv_file_name = os.path.join(output_folder, f\"{file_name}-OverHistory.csv\")  # Save in Output folder\n",
    "\n",
    "        # Save DataFrame as CSV\n",
    "        df.to_csv(csv_file_name, index=False)\n",
    "\n",
    "        print(f\"File saved: {csv_file_name}\")"
   ]
  },
  {
   "cell_type": "code",
   "execution_count": 3,
   "id": "b0196622-4689-49a2-91a2-3295c1cf0c49",
   "metadata": {},
   "outputs": [
    {
     "name": "stdout",
     "output_type": "stream",
     "text": [
      "✅ Combined OverHistory File Saved: Output\\ballbyballdata.csv\n"
     ]
    }
   ],
   "source": [
    "# Define the output folder\n",
    "OUTPUT_FOLDER = \"Output\"\n",
    "COMBINED_FILE = os.path.join(OUTPUT_FOLDER, \"ballbyballdata.csv\")\n",
    "\n",
    "# List all files ending with \"-OverHistory.csv\"\n",
    "over_history_files = [f for f in os.listdir(OUTPUT_FOLDER) if f.endswith(\"-OverHistory.csv\")]\n",
    "\n",
    "# List to store DataFrames\n",
    "dfs = []\n",
    "\n",
    "# Read each OverHistory file and append to list\n",
    "for file in over_history_files:\n",
    "    file_path = os.path.join(OUTPUT_FOLDER, file)\n",
    "    df = pd.read_csv(file_path)\n",
    "    dfs.append(df)\n",
    "\n",
    "# Combine all OverHistory data\n",
    "if dfs:\n",
    "    combined_df = pd.concat(dfs, ignore_index=True)\n",
    "\n",
    "    # Save the combined file\n",
    "    combined_df.to_csv(COMBINED_FILE, index=False)\n",
    "\n",
    "    print(f\"✅ Combined OverHistory File Saved: {COMBINED_FILE}\")\n",
    "else:\n",
    "    print(\"⚠️ No files ending with '-OverHistory.csv' found to combine.\")"
   ]
  },
  {
   "cell_type": "markdown",
   "id": "9479623b-2463-4e59-a237-7259499d5fa1",
   "metadata": {},
   "source": [
    "### 2. 2025_matchsummary_Scraper"
   ]
  },
  {
   "cell_type": "code",
   "execution_count": 4,
   "id": "fe910719-2f9f-43dc-9bd4-7f49bc511855",
   "metadata": {},
   "outputs": [
    {
     "name": "stdout",
     "output_type": "stream",
     "text": [
      "File saved: Output\\203-matchschedule-MatchSummary.csv\n"
     ]
    }
   ],
   "source": [
    "import os\n",
    "import requests\n",
    "import json\n",
    "import re\n",
    "import pandas as pd\n",
    "\n",
    "# URL for match schedule\n",
    "test_url = 'https://ipl-stats-sports-mechanic.s3.ap-south-1.amazonaws.com/ipl/feeds/203-matchschedule.js'\n",
    "\n",
    "# Create \"Output\" directory if it doesn't exist\n",
    "output_folder = \"Output\"\n",
    "os.makedirs(output_folder, exist_ok=True)\n",
    "\n",
    "# Fetch data from URL\n",
    "response = requests.get(url=test_url)\n",
    "\n",
    "# Extract JSON data from JavaScript callback response\n",
    "start_index = response.text.find('(') + 1\n",
    "end_index = response.text.rfind(')')\n",
    "json_data = response.text[start_index:end_index]\n",
    "data = json.loads(json_data)\n",
    "\n",
    "# Extract match schedule\n",
    "match_schedule = data['Matchsummary']\n",
    "\n",
    "# Convert data into DataFrame\n",
    "df = pd.DataFrame(match_schedule)\n",
    "\n",
    "# Extract filename from URL\n",
    "file_name = re.search(r'/(\\d+-\\w+)\\.', test_url).group(1)  # Extracts '203-matchschedule'\n",
    "csv_file_name = os.path.join(output_folder, f\"{file_name}-MatchSummary.csv\")  # Save in Output folder\n",
    "\n",
    "# Save DataFrame as CSV\n",
    "df.to_csv(csv_file_name, index=False)\n",
    "\n",
    "print(f\"File saved: {csv_file_name}\")"
   ]
  },
  {
   "cell_type": "markdown",
   "id": "41161fd9-8bc2-4280-a72f-4bdeb16d6204",
   "metadata": {},
   "source": [
    "### 3. 2025_Squad_Data_Scraper"
   ]
  },
  {
   "cell_type": "code",
   "execution_count": 5,
   "id": "7d8c87ef-773a-48d8-9d60-baabb4fad79d",
   "metadata": {},
   "outputs": [
    {
     "name": "stdout",
     "output_type": "stream",
     "text": [
      "Saved Combined Squad File: Output\\1799-Squad.csv\n",
      "Saved Combined Squad File: Output\\1803-Squad.csv\n",
      "Saved Combined Squad File: Output\\1801-Squad.csv\n",
      "Saved Combined Squad File: Output\\1800-Squad.csv\n",
      "Saved Combined Squad File: Output\\1802-Squad.csv\n"
     ]
    }
   ],
   "source": [
    "import os\n",
    "import requests\n",
    "import json\n",
    "import re\n",
    "import pandas as pd\n",
    "from concurrent.futures import ThreadPoolExecutor\n",
    "\n",
    "# Base URL for fetching data\n",
    "BASE_URL = 'https://ipl-stats-sports-mechanic.s3.ap-south-1.amazonaws.com/ipl/feeds/'\n",
    "\n",
    "# List of match IDs\n",
    "MATCH_IDS = [1799, 1800, 1801, 1802, 1803, 1804, 1805, 1806, 1807, 1808, 1809, 1810, 1811, 1812]\n",
    "\n",
    "# Generate full URLs\n",
    "URLS = [f'{BASE_URL}{match_id}-squad.js' for match_id in MATCH_IDS]\n",
    "\n",
    "# Create \"Output\" directory if it doesn't exist\n",
    "OUTPUT_FOLDER = \"Output\"\n",
    "os.makedirs(OUTPUT_FOLDER, exist_ok=True)\n",
    "\n",
    "# Headers to mimic a real browser\n",
    "HEADERS = {\n",
    "    \"User-Agent\": (\n",
    "        \"Mozilla/5.0 (Windows NT 10.0; Win64; x64) AppleWebKit/537.36 \"\n",
    "        \"(KHTML, like Gecko) Chrome/114.0.0.0 Safari/537.36\"\n",
    "    )\n",
    "}\n",
    "\n",
    "# Columns to drop\n",
    "DROP_COLUMNS = [\"PlayerShortName\", \"ClientPlayerID\", \"PlayingOrder\", \"Squad\"]\n",
    "\n",
    "def fetch_and_process_data(url):\n",
    "    try:\n",
    "        response = requests.get(url, headers=HEADERS)\n",
    "        response.raise_for_status()\n",
    "\n",
    "        # Parse JSON data\n",
    "        start_index = response.text.find('(') + 1\n",
    "        end_index = response.text.rfind(')')\n",
    "        json_data = response.text[start_index:end_index]\n",
    "        data = json.loads(json_data)\n",
    "\n",
    "        match_id = re.search(r'(\\d+)-squad.js', url).group(1)\n",
    "\n",
    "        dfs = []  # List to store DataFrames\n",
    "\n",
    "        # Extract and clean squadA data\n",
    "        if \"squadA\" in data:\n",
    "            df_squadA = pd.DataFrame(data[\"squadA\"])\n",
    "            dfs.append(df_squadA)\n",
    "\n",
    "        # Extract and clean squadB data\n",
    "        if \"squadB\" in data:\n",
    "            df_squadB = pd.DataFrame(data[\"squadB\"])\n",
    "            dfs.append(df_squadB)\n",
    "\n",
    "        # Combine both squads\n",
    "        if dfs:\n",
    "            combined_df = pd.concat(dfs, ignore_index=True)\n",
    "\n",
    "            # Remove unwanted columns\n",
    "            combined_df.drop(columns=[col for col in DROP_COLUMNS if col in combined_df.columns], inplace=True)\n",
    "\n",
    "            # Add \"Season\" column with value 2025\n",
    "            combined_df[\"Season\"] = 2025\n",
    "\n",
    "            # Save the cleaned data in Output folder\n",
    "            combined_file = os.path.join(OUTPUT_FOLDER, f\"{match_id}-Squad.csv\")\n",
    "            combined_df.to_csv(combined_file, index=False)\n",
    "            print(f\"Saved Combined Squad File: {combined_file}\")\n",
    "\n",
    "    except requests.exceptions.RequestException as e:\n",
    "        print(f\"Request failed for {url}: {e}\")\n",
    "    except json.JSONDecodeError as e:\n",
    "        print(f\"Failed to parse JSON for {url}: {e}\")\n",
    "    except KeyError as e:\n",
    "        print(f\"KeyError: Missing expected key in the JSON data for {url}: {e}\")\n",
    "    except Exception as e:\n",
    "        print(f\"An error occurred for {url}: {e}\")\n",
    "\n",
    "# Use ThreadPoolExecutor for parallel processing\n",
    "with ThreadPoolExecutor(max_workers=10) as executor:\n",
    "    executor.map(fetch_and_process_data, URLS)\n"
   ]
  },
  {
   "cell_type": "code",
   "execution_count": 6,
   "id": "4f539312-afc4-4e99-85b9-7aa48b0db175",
   "metadata": {},
   "outputs": [
    {
     "name": "stdout",
     "output_type": "stream",
     "text": [
      "✅ Combined Squad File Saved: Output\\New_Squad.csv\n"
     ]
    }
   ],
   "source": [
    "# Define the output folder\n",
    "OUTPUT_FOLDER = \"Output\"\n",
    "NEW_SQUAD_FILE = os.path.join(OUTPUT_FOLDER, \"New_Squad.csv\")\n",
    "\n",
    "# List all squad files ending with \"-Squad.csv\"\n",
    "squad_files = [f for f in os.listdir(OUTPUT_FOLDER) if f.endswith(\"-Squad.csv\")]\n",
    "\n",
    "# List to store dataframes\n",
    "dfs = []\n",
    "\n",
    "# Read each squad file and append to list\n",
    "for file in squad_files:\n",
    "    file_path = os.path.join(OUTPUT_FOLDER, file)\n",
    "    df = pd.read_csv(file_path)\n",
    "    dfs.append(df)\n",
    "\n",
    "# Combine all squad data\n",
    "if dfs:\n",
    "    combined_squad_df = pd.concat(dfs, ignore_index=True)\n",
    "\n",
    "    # Save the combined file\n",
    "    combined_squad_df.to_csv(NEW_SQUAD_FILE, index=False)\n",
    "\n",
    "    print(f\"✅ Combined Squad File Saved: {NEW_SQUAD_FILE}\")\n",
    "else:\n",
    "    print(\"⚠️ No squad files ending with '-Squad.csv' found to combine.\")"
   ]
  },
  {
   "cell_type": "code",
   "execution_count": 7,
   "id": "d7c18abc-904b-4efe-bfba-10d82bc4dc86",
   "metadata": {},
   "outputs": [
    {
     "data": {
      "text/plain": [
       "(160, 15)"
      ]
     },
     "execution_count": 7,
     "metadata": {},
     "output_type": "execute_result"
    }
   ],
   "source": [
    "new_df = pd.read_csv(\"Output/New_Squad.csv\")\n",
    "new_df.shape"
   ]
  },
  {
   "cell_type": "code",
   "execution_count": 8,
   "id": "3dee62b0-4559-4bbd-84d5-f22e62f080b5",
   "metadata": {},
   "outputs": [
    {
     "data": {
      "text/plain": [
       "(660, 15)"
      ]
     },
     "execution_count": 8,
     "metadata": {},
     "output_type": "execute_result"
    }
   ],
   "source": [
    "# Load the extracted and cleaned squad data\n",
    "old_df = pd.read_csv(\"Old_data/Squad.csv\")\n",
    "old_df.shape"
   ]
  },
  {
   "cell_type": "code",
   "execution_count": 9,
   "id": "36eee083-4758-4383-8c9d-e0ab93c34081",
   "metadata": {},
   "outputs": [
    {
     "data": {
      "text/plain": [
       "(820, 15)"
      ]
     },
     "execution_count": 9,
     "metadata": {},
     "output_type": "execute_result"
    }
   ],
   "source": [
    "df = pd.concat([old_df, new_df], ignore_index=True)\n",
    "df.shape"
   ]
  },
  {
   "cell_type": "code",
   "execution_count": 10,
   "id": "c324f90d-6c84-4786-90b9-cdd20fd487fa",
   "metadata": {},
   "outputs": [],
   "source": [
    "df.drop_duplicates(inplace=True)"
   ]
  },
  {
   "cell_type": "code",
   "execution_count": 11,
   "id": "d72ac9d5-9bbd-4b2f-b660-25f9da63d4b1",
   "metadata": {},
   "outputs": [
    {
     "data": {
      "text/plain": [
       "(820, 15)"
      ]
     },
     "execution_count": 11,
     "metadata": {},
     "output_type": "execute_result"
    }
   ],
   "source": [
    "df.shape"
   ]
  },
  {
   "cell_type": "code",
   "execution_count": 12,
   "id": "68f698b9-bc97-43bb-aab6-4c6b374d4428",
   "metadata": {},
   "outputs": [],
   "source": [
    "df.to_csv('Dashboard_Data/Squad.csv', index=False)"
   ]
  },
  {
   "cell_type": "markdown",
   "id": "ccdffe46-a0b3-4508-815e-b4aee61a9e31",
   "metadata": {},
   "source": [
    "### Match_data_Cleaning_merging.ipynb"
   ]
  },
  {
   "cell_type": "code",
   "execution_count": 13,
   "id": "1aae0253-7b8d-4ca3-98d5-d8001410f96c",
   "metadata": {},
   "outputs": [
    {
     "data": {
      "text/plain": [
       "(52878, 63)"
      ]
     },
     "execution_count": 13,
     "metadata": {},
     "output_type": "execute_result"
    }
   ],
   "source": [
    "df = pd.read_csv('Old_data/Final_data_2022-2024_old.csv')\n",
    "df.shape"
   ]
  },
  {
   "cell_type": "code",
   "execution_count": 14,
   "id": "fdebb5e3-35a8-4d13-9d71-a55c4f13485b",
   "metadata": {},
   "outputs": [
    {
     "data": {
      "text/plain": [
       "Index(['Season', 'BallID', 'BallUniqueID', 'ActualBallNo', 'MatchID',\n",
       "       'InningsNo', 'BattingTeamID', 'TeamName', 'BatsManName', 'BowlerName',\n",
       "       'BowlerType', 'OverNo', 'OverName', 'BallNo', 'Runs', 'BallRuns',\n",
       "       'RunsText', 'ActualRuns', 'Real Run', 'IsOne', 'IsTwo', 'IsThree',\n",
       "       'IsDotball', 'Extras', 'IsWide', 'IsNoBall', 'IsBye', 'IsLegBye',\n",
       "       'IsFour', 'IsSix', 'IsWicket', 'WicketType', 'Wickets',\n",
       "       'IsBowlerWicket', 'CommentOver', 'BallName', 'CommentStrikers',\n",
       "       'NewCommentry', 'IsExtra', 'SNO', 'Xpitch', 'Ypitch', 'RunRuns',\n",
       "       'IsMaiden', 'BowlTypeID', 'BowlTypeName', 'ShotTypeID', 'ShotType',\n",
       "       'IsBouncer', 'IsFreeHit', 'BallCount', 'BCCheck', 'TotalRuns',\n",
       "       'TotalWickets', 'BOWLING_LINE_ID', 'BOWLING_LENGTH_ID', 'FiveHaul',\n",
       "       'PenaltyRuns', 'IsFifty', 'IsHundred', 'IsTwoHundred', 'IsHattrick',\n",
       "       'Bowling_Team'],\n",
       "      dtype='object')"
      ]
     },
     "execution_count": 14,
     "metadata": {},
     "output_type": "execute_result"
    }
   ],
   "source": [
    "df.columns"
   ]
  },
  {
   "cell_type": "code",
   "execution_count": 15,
   "id": "0272aff1-c8c6-4885-9b98-38e430346153",
   "metadata": {},
   "outputs": [
    {
     "data": {
      "text/plain": [
       "(1266, 73)"
      ]
     },
     "execution_count": 15,
     "metadata": {},
     "output_type": "execute_result"
    }
   ],
   "source": [
    "new_df1 = pd.read_csv('Output/ballbyballdata.csv')\n",
    "new_df1.shape"
   ]
  },
  {
   "cell_type": "code",
   "execution_count": 16,
   "id": "c75b2971-1c52-4c02-9106-1680188bcff4",
   "metadata": {},
   "outputs": [],
   "source": [
    "new_df1 = new_df1.dropna(subset=['BallID'])"
   ]
  },
  {
   "cell_type": "code",
   "execution_count": 17,
   "id": "685f388a-838c-44f1-86bf-678b51f244f3",
   "metadata": {},
   "outputs": [
    {
     "data": {
      "text/plain": [
       "BallID          0\n",
       "BallUniqueID    0\n",
       "ActualBallNo    0\n",
       "MatchID         0\n",
       "InningsNo       0\n",
       "               ..\n",
       "PenaltyRuns     0\n",
       "IsFifty         0\n",
       "IsHundred       0\n",
       "IsTwoHundred    0\n",
       "IsHattrick      0\n",
       "Length: 73, dtype: int64"
      ]
     },
     "execution_count": 17,
     "metadata": {},
     "output_type": "execute_result"
    }
   ],
   "source": [
    "new_df1.isnull().sum()"
   ]
  },
  {
   "cell_type": "code",
   "execution_count": 18,
   "id": "e9916502-8c9e-4fe1-8a85-fd8a0fd077d4",
   "metadata": {},
   "outputs": [
    {
     "data": {
      "text/plain": [
       "(1228, 73)"
      ]
     },
     "execution_count": 18,
     "metadata": {},
     "output_type": "execute_result"
    }
   ],
   "source": [
    "new_df1.shape"
   ]
  },
  {
   "cell_type": "code",
   "execution_count": 19,
   "id": "1034c24c-64f8-4bfa-b4b1-34616fa0b5df",
   "metadata": {},
   "outputs": [
    {
     "data": {
      "text/plain": [
       "(1228, 74)"
      ]
     },
     "execution_count": 19,
     "metadata": {},
     "output_type": "execute_result"
    }
   ],
   "source": [
    "new_df1['Real Run'] = new_df1['ActualRuns'] + new_df1['Extras']\n",
    "new_df1.shape"
   ]
  },
  {
   "cell_type": "code",
   "execution_count": 20,
   "id": "a6a1a242-c6a8-40b6-a6e4-b1186c396f4a",
   "metadata": {},
   "outputs": [],
   "source": [
    "new_df1.drop(columns=['SESSION_NO', 'OutBatsManID', 'NonStrikerID', 'HatCheck', 'OverImage',\n",
    "                     'FlagSet', 'Flag', 'Day', 'Commentry', 'BowlerID', 'VideoFile', \n",
    "                     'UPDCommentry', 'StrikerID'], inplace=True)"
   ]
  },
  {
   "cell_type": "code",
   "execution_count": 21,
   "id": "f18ed875-f8de-42cb-a0d7-babe8ce5d0fe",
   "metadata": {},
   "outputs": [],
   "source": [
    "new_df1['Season'] = 2025"
   ]
  },
  {
   "cell_type": "code",
   "execution_count": 22,
   "id": "e9e430b9-0593-4b2b-aa9c-f6fe75c19761",
   "metadata": {},
   "outputs": [
    {
     "data": {
      "text/plain": [
       "Index(['CompetitionID', 'MatchID', 'MatchTypeID', 'MatchType', 'MatchStatus',\n",
       "       'MatchDate', 'MatchDateNew', 'MatchName', 'MatchTime', 'GMTMatchTime',\n",
       "       ...\n",
       "       '3rdProjectedScore', 'MOM', 'MOM_TYPE', 'MOMPlayerId', 'MOMRuns',\n",
       "       'MOMBalls', 'MOMWicket', 'MOMRC', 'MOMImage', 'KO'],\n",
       "      dtype='object', length=156)"
      ]
     },
     "execution_count": 22,
     "metadata": {},
     "output_type": "execute_result"
    }
   ],
   "source": [
    "matchsummary_df = pd.read_csv('Output/203-matchschedule-MatchSummary.csv')\n",
    "matchsummary_df.columns"
   ]
  },
  {
   "cell_type": "code",
   "execution_count": 23,
   "id": "9b215036-a468-43ce-bb84-4d85a54560d8",
   "metadata": {},
   "outputs": [],
   "source": [
    "# Merge new_df with matchsummary_df on MatchID\n",
    "merged_df = new_df1.merge(matchsummary_df[['MatchID', 'FirstBattingTeamID', 'FirstBattingTeamName', \n",
    "                                          'SecondBattingTeamID', 'SecondBattingTeamName']], on='MatchID', how='left')\n",
    "\n",
    "# Determine the Bowling Team\n",
    "merged_df['Bowling_Team'] = merged_df.apply(\n",
    "    lambda row: row['SecondBattingTeamName'] if row['BattingTeamID'] == row['FirstBattingTeamID'] \n",
    "    else row['FirstBattingTeamName'], axis=1\n",
    ")\n",
    "\n",
    "# Drop unnecessary columns if needed\n",
    "new_df1 = merged_df.drop(columns=['FirstBattingTeamID', 'FirstBattingTeamName', \n",
    "                                 'SecondBattingTeamID', 'SecondBattingTeamName'])"
   ]
  },
  {
   "cell_type": "code",
   "execution_count": 24,
   "id": "99604150-0c61-4340-a5c1-42fd1262f514",
   "metadata": {},
   "outputs": [
    {
     "data": {
      "text/plain": [
       "Index(['BallID', 'BallUniqueID', 'ActualBallNo', 'MatchID', 'InningsNo',\n",
       "       'BattingTeamID', 'TeamName', 'BatsManName', 'BowlerName', 'BowlerType',\n",
       "       'OverNo', 'OverName', 'BallNo', 'Runs', 'BallRuns', 'RunsText',\n",
       "       'ActualRuns', 'IsOne', 'IsTwo', 'IsThree', 'IsDotball', 'Extras',\n",
       "       'IsWide', 'IsNoBall', 'IsBye', 'IsLegBye', 'IsFour', 'IsSix',\n",
       "       'IsWicket', 'WicketType', 'Wickets', 'IsBowlerWicket', 'CommentOver',\n",
       "       'BallName', 'CommentStrikers', 'NewCommentry', 'IsExtra', 'SNO',\n",
       "       'Xpitch', 'Ypitch', 'RunRuns', 'IsMaiden', 'BowlTypeID', 'BowlTypeName',\n",
       "       'ShotTypeID', 'ShotType', 'IsBouncer', 'IsFreeHit', 'BallCount',\n",
       "       'BCCheck', 'TotalRuns', 'TotalWickets', 'BOWLING_LINE_ID',\n",
       "       'BOWLING_LENGTH_ID', 'FiveHaul', 'PenaltyRuns', 'IsFifty', 'IsHundred',\n",
       "       'IsTwoHundred', 'IsHattrick', 'Real Run', 'Season', 'Bowling_Team'],\n",
       "      dtype='object')"
      ]
     },
     "execution_count": 24,
     "metadata": {},
     "output_type": "execute_result"
    }
   ],
   "source": [
    "new_df1.columns"
   ]
  },
  {
   "cell_type": "code",
   "execution_count": 25,
   "id": "b5f97647-2277-4b79-b846-009604071ccd",
   "metadata": {},
   "outputs": [
    {
     "data": {
      "text/plain": [
       "(52878, 63)"
      ]
     },
     "execution_count": 25,
     "metadata": {},
     "output_type": "execute_result"
    }
   ],
   "source": [
    "df.shape"
   ]
  },
  {
   "cell_type": "code",
   "execution_count": 26,
   "id": "1706055c-fc56-4732-93ea-3d6cf0e12dfe",
   "metadata": {},
   "outputs": [
    {
     "data": {
      "text/plain": [
       "(1228, 63)"
      ]
     },
     "execution_count": 26,
     "metadata": {},
     "output_type": "execute_result"
    }
   ],
   "source": [
    "new_df1.shape"
   ]
  },
  {
   "cell_type": "code",
   "execution_count": 27,
   "id": "a5b54192-6703-4697-a332-69ad81cc6e8b",
   "metadata": {},
   "outputs": [
    {
     "data": {
      "text/plain": [
       "(54106, 63)"
      ]
     },
     "execution_count": 27,
     "metadata": {},
     "output_type": "execute_result"
    }
   ],
   "source": [
    "df = pd.concat([df, new_df1], ignore_index=True)\n",
    "df.shape"
   ]
  },
  {
   "cell_type": "code",
   "execution_count": 28,
   "id": "2a0941ad-206e-46a0-852b-5b6045bd42ed",
   "metadata": {},
   "outputs": [],
   "source": [
    "df = df.replace(\"Royal Challengers Bengaluru\", \"Royal Challengers Bangalore\")"
   ]
  },
  {
   "cell_type": "code",
   "execution_count": 29,
   "id": "f32056b1-6a63-45e3-981a-e7f0f5389630",
   "metadata": {},
   "outputs": [],
   "source": [
    "df.to_csv('Dashboard_Data/Final_data_2022-2025.csv', index=False)"
   ]
  },
  {
   "cell_type": "markdown",
   "id": "f19d80a7-47c1-4462-be24-42fc7e675414",
   "metadata": {},
   "source": [
    "### Match_summary_data_Cleaning_Merging"
   ]
  },
  {
   "cell_type": "code",
   "execution_count": 30,
   "id": "78b732c5-a8af-4168-9b28-6b5fd32922fa",
   "metadata": {},
   "outputs": [
    {
     "data": {
      "text/plain": [
       "(74, 156)"
      ]
     },
     "execution_count": 30,
     "metadata": {},
     "output_type": "execute_result"
    }
   ],
   "source": [
    "new_ms_df = pd.read_csv('Output/203-matchschedule-MatchSummary.csv')\n",
    "new_ms_df.shape"
   ]
  },
  {
   "cell_type": "code",
   "execution_count": 31,
   "id": "d4a4f31f-d036-4de8-bc32-404a727084dd",
   "metadata": {},
   "outputs": [
    {
     "data": {
      "text/plain": [
       "(222, 68)"
      ]
     },
     "execution_count": 31,
     "metadata": {},
     "output_type": "execute_result"
    }
   ],
   "source": [
    "old_ms_df = pd.read_csv('Old_data/Match_Summary.csv')\n",
    "old_ms_df.shape"
   ]
  },
  {
   "cell_type": "code",
   "execution_count": 32,
   "id": "cacd2613-b236-4584-8201-c1acd6c75ce3",
   "metadata": {},
   "outputs": [
    {
     "data": {
      "text/plain": [
       "(74, 65)"
      ]
     },
     "execution_count": 32,
     "metadata": {},
     "output_type": "execute_result"
    }
   ],
   "source": [
    "columns_to_drop = [\n",
    "    \"ChasingText\", \"BowlerWickets\", \"BowlerSR\", \"BowlerRuns\", \"BowlerOvers\", \"BowlerMaidens\",\n",
    "    \"BowlerImage\", \"BowlerEconomy\", \"6Summary\", \"6RunRate\", \"6FallWickets\", \"6FallScore\",\n",
    "    \"6FallOvers\", \"5Summary\", \"5RunRate\", \"5FallWickets\", \"5FallScore\", \"5FallOvers\",\n",
    "    \"4Summary\", \"4RunRate\", \"4FallWickets\", \"4FallScore\", \"4FallOvers\", \"3Summary\",\n",
    "    \"3RunRate\", \"3rdProjectedScore\", \"3FallWickets\", \"3FallScore\", \"3FallOvers\",\n",
    "    \"2RunRate\", \"2ndProjectedScore\", \"2FallWickets\", \"2FallScore\", \"2FallOvers\",\n",
    "    \"1RunRate\", \"1FallWickets\", \"1FallScore\", \"1FallOvers\", \"WeatherIcon\",\n",
    "    \"VideoScorecard\", \"TimeZone\", \"ThirdInningsSecondBattingName\", \"ThirdInningsSecondBattingID\",\n",
    "    \"ThirdInningsFirstBattingName\", \"ThirdInningsFirstBattingID\", \"TempUpdatedDate\",\n",
    "    \"Temperature\", \"TeamType\", \"T20ProMatchID\", \"StrikerSR\", \"StrikerSixes\",\n",
    "    \"StrikerRuns\", \"StrikerImage\", \"StrikerFours\", \"StrikerBalls\",\n",
    "    \"SecondInningsSecondBattingName\", \"SecondInningsSecondBattingID\",\n",
    "    \"SecondInningsFirstBattingName\", \"SecondInningsFirstBattingID\",\n",
    "    \"ROUND_ID\", \"ProjectedScore\", \"PreMatchCommentary\", \"PostMatchCommentary\",\n",
    "    \"NonStrikerSR\", \"NonStrikerSixes\", \"NonStrikerRuns\", \"NonStrikerImage\",\n",
    "    \"NonStrikerFours\", \"NonStrikerBalls\", \"MatchTypeName\", \"MatchTypeID\",\n",
    "    \"MatchStatus\", \"MatchProgress\", \"MatchBreakComments\", \"LiveStream\",\n",
    "    \"GMTMatchEndTime\", \"GMTMatchEndDate\", \"GMTMatchDate\", \"FlickrAlbumID\",\n",
    "    \"Flag\", \"FBURL\", \"DivisionID\", \"CurrentStrikerName\", \"CurrentStrikerID\",\n",
    "    \"CurrentNonStrikerName\", \"CurrentNonStrikerID\", \"CurrentBowlerName\",\n",
    "    \"CurrentBowlerID\", \"ClientMatchID\", 'MatchHomeTeamLogo', 'MatchAwayTeamLogo'\n",
    "]\n",
    "\n",
    "# Drop the columns\n",
    "new_ms_df.drop(columns=columns_to_drop, inplace=True, errors='ignore')\n",
    "new_ms_df.shape"
   ]
  },
  {
   "cell_type": "code",
   "execution_count": 33,
   "id": "503ff310-8f9e-4b07-8089-9b202ad9d689",
   "metadata": {},
   "outputs": [],
   "source": [
    "new_ms_df['Season'] = 2025"
   ]
  },
  {
   "cell_type": "code",
   "execution_count": 34,
   "id": "5c0be4a5-86b3-4b91-aae8-877a4fa2a1a6",
   "metadata": {},
   "outputs": [
    {
     "data": {
      "text/plain": [
       "(74, 67)"
      ]
     },
     "execution_count": 34,
     "metadata": {},
     "output_type": "execute_result"
    }
   ],
   "source": [
    "# Define conditions for 'Day/Night' column\n",
    "new_ms_df['Day/Night'] = new_ms_df['MatchTime'].apply(lambda x: 'Night' if x in [\"20:00:00\", \"19:30:00\"] \n",
    "                                                      else 'Day' if x in [\"15:30:00\", \"19:30:00\"] \n",
    "                                                      else 'Unknown')\n",
    "new_ms_df.shape"
   ]
  },
  {
   "cell_type": "code",
   "execution_count": 35,
   "id": "b614aabd-e81f-4a0f-bfe9-a4f2b511080a",
   "metadata": {},
   "outputs": [
    {
     "data": {
      "text/plain": [
       "(74, 68)"
      ]
     },
     "execution_count": 35,
     "metadata": {},
     "output_type": "execute_result"
    }
   ],
   "source": [
    "# Define mapping of MatchTypeID to MatchType2\n",
    "match_type_mapping = {\n",
    "    74: \"Final\",\n",
    "    73: \"Qualifier 2\",\n",
    "    72: \"Eliminator\",\n",
    "    71: \"Qualifier 1\"\n",
    "}\n",
    "\n",
    "# Apply mapping, setting the default value to \"Regular\"\n",
    "new_ms_df['MatchType2'] = new_ms_df['MatchRow'].map(match_type_mapping).fillna(\"Regular\")\n",
    "new_ms_df.shape"
   ]
  },
  {
   "cell_type": "code",
   "execution_count": 36,
   "id": "4842d7fe-28ee-44ca-a7b7-3549e8baafcc",
   "metadata": {},
   "outputs": [
    {
     "data": {
      "text/plain": [
       "(296, 68)"
      ]
     },
     "execution_count": 36,
     "metadata": {},
     "output_type": "execute_result"
    }
   ],
   "source": [
    "new_df = pd.concat([old_ms_df, new_ms_df], ignore_index=True)\n",
    "new_df.shape"
   ]
  },
  {
   "cell_type": "code",
   "execution_count": 37,
   "id": "10443c20-f3d7-4655-9ea5-dec8ee26b9c2",
   "metadata": {},
   "outputs": [],
   "source": [
    "new_df = new_df.replace(\"Royal Challengers Bengaluru\", \"Royal Challengers Bangalore\")"
   ]
  },
  {
   "cell_type": "code",
   "execution_count": 38,
   "id": "ec72f1ec-2607-42f4-b0e7-12d172549669",
   "metadata": {},
   "outputs": [
    {
     "name": "stdout",
     "output_type": "stream",
     "text": [
      "Match_Summary Exported.\n"
     ]
    }
   ],
   "source": [
    "new_df.to_csv('Dashboard_Data/Match_Summary.csv', index=False)\n",
    "print ('Match_Summary Exported.')"
   ]
  },
  {
   "cell_type": "code",
   "execution_count": 39,
   "id": "58bff895-d116-4660-9e20-d6f8f5a33f8e",
   "metadata": {},
   "outputs": [
    {
     "data": {
      "text/plain": [
       "Index(['CompetitionID', 'MatchID', 'MatchType', 'MatchDate', 'MatchDateNew',\n",
       "       'MatchName', 'MatchTime', 'Day/Night', 'GMTMatchTime',\n",
       "       'FirstBattingTeamID', 'FirstBattingTeamName', 'SecondBattingTeamID',\n",
       "       'SecondBattingTeamName', 'FirstBattingTeamCode',\n",
       "       'SecondBattingTeamCode', 'GroundID', 'GroundName', 'Commentss',\n",
       "       'TossTeam', 'TossDetails', 'TossText', 'FirstBattingSummary',\n",
       "       'SecondBattingSummary', 'MATCH_COMMENCE_START_DATE', 'city',\n",
       "       'GroundUmpire1ID', 'GroundUmpire2ID', 'GroundUmpire3ID', 'RefereeID',\n",
       "       'HomeTeamID', 'HomeTeamName', 'AwayTeamID', 'AwayTeamName', 'timezone1',\n",
       "       'MatchEndDate', 'MatchEndTime', 'RowNo', 'GroundUmpire1',\n",
       "       'GroundUmpire2', 'ThirdUmpire', 'Comments', 'HomeTeamLogo',\n",
       "       'AwayTeamLogo', 'CurrentInnings', '1Summary', '2Summary',\n",
       "       'WinningTeamID', 'MatchType2', 'MatchOrder', 'RevisedOver',\n",
       "       'RevisedTarget', 'MatchRow', 'Season', 'HomeTeamColor1',\n",
       "       'HomeTeamColor2', 'AwayTeamColor1', 'AwayTeamColor2',\n",
       "       'MATCH_NO_OF_OVERS', 'CompetitionName', 'MOM', 'MOM_TYPE',\n",
       "       'MOMPlayerId', 'MOMRuns', 'MOMBalls', 'MOMWicket', 'MOMRC', 'MOMImage',\n",
       "       'KO'],\n",
       "      dtype='object')"
      ]
     },
     "execution_count": 39,
     "metadata": {},
     "output_type": "execute_result"
    }
   ],
   "source": [
    "new_df.columns"
   ]
  },
  {
   "cell_type": "code",
   "execution_count": 40,
   "id": "7302a0c6-0366-48a5-b444-8deef7a5ff4c",
   "metadata": {},
   "outputs": [
    {
     "data": {
      "text/plain": [
       "Index(['Season', 'BallID', 'BallUniqueID', 'ActualBallNo', 'MatchID',\n",
       "       'InningsNo', 'BattingTeamID', 'TeamName', 'BatsManName', 'BowlerName',\n",
       "       'BowlerType', 'OverNo', 'OverName', 'BallNo', 'Runs', 'BallRuns',\n",
       "       'RunsText', 'ActualRuns', 'Real Run', 'IsOne', 'IsTwo', 'IsThree',\n",
       "       'IsDotball', 'Extras', 'IsWide', 'IsNoBall', 'IsBye', 'IsLegBye',\n",
       "       'IsFour', 'IsSix', 'IsWicket', 'WicketType', 'Wickets',\n",
       "       'IsBowlerWicket', 'CommentOver', 'BallName', 'CommentStrikers',\n",
       "       'NewCommentry', 'IsExtra', 'SNO', 'Xpitch', 'Ypitch', 'RunRuns',\n",
       "       'IsMaiden', 'BowlTypeID', 'BowlTypeName', 'ShotTypeID', 'ShotType',\n",
       "       'IsBouncer', 'IsFreeHit', 'BallCount', 'BCCheck', 'TotalRuns',\n",
       "       'TotalWickets', 'BOWLING_LINE_ID', 'BOWLING_LENGTH_ID', 'FiveHaul',\n",
       "       'PenaltyRuns', 'IsFifty', 'IsHundred', 'IsTwoHundred', 'IsHattrick',\n",
       "       'Bowling_Team'],\n",
       "      dtype='object')"
      ]
     },
     "execution_count": 40,
     "metadata": {},
     "output_type": "execute_result"
    }
   ],
   "source": [
    "df.columns"
   ]
  },
  {
   "cell_type": "code",
   "execution_count": null,
   "id": "79b67b2f-ec96-4325-bb19-b2dee7a45f48",
   "metadata": {},
   "outputs": [],
   "source": []
  }
 ],
 "metadata": {
  "kernelspec": {
   "display_name": "Python 3 (ipykernel)",
   "language": "python",
   "name": "python3"
  },
  "language_info": {
   "codemirror_mode": {
    "name": "ipython",
    "version": 3
   },
   "file_extension": ".py",
   "mimetype": "text/x-python",
   "name": "python",
   "nbconvert_exporter": "python",
   "pygments_lexer": "ipython3",
   "version": "3.10.10"
  }
 },
 "nbformat": 4,
 "nbformat_minor": 5
}
