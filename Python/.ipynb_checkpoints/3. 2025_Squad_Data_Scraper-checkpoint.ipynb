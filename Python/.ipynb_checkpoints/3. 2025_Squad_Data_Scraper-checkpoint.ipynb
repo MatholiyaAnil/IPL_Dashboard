{
 "cells": [
  {
   "cell_type": "code",
   "execution_count": 1,
   "id": "e142ba28-5928-4751-bdaf-96be6916b44e",
   "metadata": {},
   "outputs": [],
   "source": [
    "import requests\n",
    "import json\n",
    "import re\n",
    "import pandas as pd\n",
    "from concurrent.futures import ThreadPoolExecutor"
   ]
  },
  {
   "cell_type": "code",
   "execution_count": 2,
   "id": "309f3a9c-e33a-4671-8ce9-48aeb96757a6",
   "metadata": {},
   "outputs": [],
   "source": [
    "# Base URL for fetching data\n",
    "BASE_URL = 'https://ipl-stats-sports-mechanic.s3.ap-south-1.amazonaws.com/ipl/feeds/'"
   ]
  },
  {
   "cell_type": "code",
   "execution_count": 3,
   "id": "ae4430b6-6d15-4614-bde1-a816bf97c55a",
   "metadata": {},
   "outputs": [],
   "source": [
    "# List of match IDs\n",
    "MATCH_IDS = [1799]"
   ]
  },
  {
   "cell_type": "code",
   "execution_count": 4,
   "id": "1f65a12f-37f0-49a3-9d56-2b0d5956a9d4",
   "metadata": {},
   "outputs": [
    {
     "data": {
      "text/plain": [
       "['https://ipl-stats-sports-mechanic.s3.ap-south-1.amazonaws.com/ipl/feeds/1799-squad.js']"
      ]
     },
     "execution_count": 4,
     "metadata": {},
     "output_type": "execute_result"
    }
   ],
   "source": [
    "# Generate full URLs\n",
    "URLS = [f'{BASE_URL}{match_id}-squad.js' for match_id in MATCH_IDS]\n",
    "URLS"
   ]
  },
  {
   "cell_type": "code",
   "execution_count": 5,
   "id": "63e70cf4-0197-4846-a4e5-246bc725e769",
   "metadata": {},
   "outputs": [],
   "source": [
    "# Headers to mimic a real browser\n",
    "HEADERS = {\n",
    "    \"User-Agent\": (\n",
    "        \"Mozilla/5.0 (Windows NT 10.0; Win64; x64) AppleWebKit/537.36 \"\n",
    "        \"(KHTML, like Gecko) Chrome/114.0.0.0 Safari/537.36\"\n",
    "    )\n",
    "}"
   ]
  },
  {
   "cell_type": "code",
   "execution_count": 6,
   "id": "967812ae-4099-4a34-91b1-aab8004f0898",
   "metadata": {},
   "outputs": [],
   "source": [
    "def fetch_and_process_data(url):\n",
    "    try:\n",
    "        response = requests.get(url, headers=HEADERS)\n",
    "        response.raise_for_status()\n",
    "\n",
    "        # Parse JSON data\n",
    "        start_index = response.text.find('(') + 1\n",
    "        end_index = response.text.rfind(')')\n",
    "        json_data = response.text[start_index:end_index]\n",
    "        data = json.loads(json_data)\n",
    "\n",
    "        # Extract OverHistory\n",
    "        over_history = data[\"squadA\"]\n",
    "\n",
    "        # Create DataFrame and save to CSV\n",
    "        df = pd.DataFrame(over_history)\n",
    "        match_id = re.search(r'(\\d+)-squad.js', url).group(1)\n",
    "        csv_file_name = f\"{match_id}-Squad.csv\"\n",
    "        df.to_csv(csv_file_name, index=False)\n",
    "\n",
    "        print(f\"Saved: {csv_file_name}\")\n",
    "\n",
    "    except requests.exceptions.RequestException as e:\n",
    "        print(f\"Request failed for {url}: {e}\")\n",
    "    except json.JSONDecodeError as e:\n",
    "        print(f\"Failed to parse JSON for {url}: {e}\")\n",
    "    except KeyError as e:\n",
    "        print(f\"KeyError: Missing expected key in the JSON data for {url}: {e}\")\n",
    "    except Exception as e:\n",
    "        print(f\"An error occurred for {url}: {e}\")"
   ]
  },
  {
   "cell_type": "code",
   "execution_count": 7,
   "id": "54a15755-9c2b-4d83-ac57-f46b109e8fd3",
   "metadata": {},
   "outputs": [
    {
     "name": "stdout",
     "output_type": "stream",
     "text": [
      "Saved: 1799-Squad.csv\n"
     ]
    }
   ],
   "source": [
    "# Use ThreadPoolExecutor for parallel processing\n",
    "with ThreadPoolExecutor(max_workers=10) as executor:\n",
    "    executor.map(fetch_and_process_data, URLS)"
   ]
  }
 ],
 "metadata": {
  "kernelspec": {
   "display_name": "Python 3 (ipykernel)",
   "language": "python",
   "name": "python3"
  },
  "language_info": {
   "codemirror_mode": {
    "name": "ipython",
    "version": 3
   },
   "file_extension": ".py",
   "mimetype": "text/x-python",
   "name": "python",
   "nbconvert_exporter": "python",
   "pygments_lexer": "ipython3",
   "version": "3.10.10"
  }
 },
 "nbformat": 4,
 "nbformat_minor": 5
}
