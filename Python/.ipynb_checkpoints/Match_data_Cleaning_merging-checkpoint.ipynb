{
 "cells": [
  {
   "cell_type": "code",
   "execution_count": 1,
   "id": "3be424fc-bf0e-4884-aa17-a6f80c0aa8db",
   "metadata": {},
   "outputs": [],
   "source": [
    "import pandas as pd\n",
    "import numpy as np"
   ]
  },
  {
   "cell_type": "code",
   "execution_count": 3,
   "id": "29902991-9486-422d-aefb-63b8315b747c",
   "metadata": {},
   "outputs": [
    {
     "data": {
      "text/plain": [
       "(52878, 63)"
      ]
     },
     "execution_count": 3,
     "metadata": {},
     "output_type": "execute_result"
    }
   ],
   "source": [
    "df = pd.read_csv('Final_data_2022-2024_old.csv')\n",
    "df.shape"
   ]
  },
  {
   "cell_type": "code",
   "execution_count": 4,
   "id": "fc6f4ed2-40ce-43a6-85cc-0e2ce936e023",
   "metadata": {},
   "outputs": [
    {
     "data": {
      "text/plain": [
       "Index(['Season', 'BallID', 'BallUniqueID', 'ActualBallNo', 'MatchID',\n",
       "       'InningsNo', 'BattingTeamID', 'TeamName', 'BatsManName', 'BowlerName',\n",
       "       'BowlerType', 'OverNo', 'OverName', 'BallNo', 'Runs', 'BallRuns',\n",
       "       'RunsText', 'ActualRuns', 'Real Run', 'IsOne', 'IsTwo', 'IsThree',\n",
       "       'IsDotball', 'Extras', 'IsWide', 'IsNoBall', 'IsBye', 'IsLegBye',\n",
       "       'IsFour', 'IsSix', 'IsWicket', 'WicketType', 'Wickets',\n",
       "       'IsBowlerWicket', 'CommentOver', 'BallName', 'CommentStrikers',\n",
       "       'NewCommentry', 'IsExtra', 'SNO', 'Xpitch', 'Ypitch', 'RunRuns',\n",
       "       'IsMaiden', 'BowlTypeID', 'BowlTypeName', 'ShotTypeID', 'ShotType',\n",
       "       'IsBouncer', 'IsFreeHit', 'BallCount', 'BCCheck', 'TotalRuns',\n",
       "       'TotalWickets', 'BOWLING_LINE_ID', 'BOWLING_LENGTH_ID', 'FiveHaul',\n",
       "       'PenaltyRuns', 'IsFifty', 'IsHundred', 'IsTwoHundred', 'IsHattrick',\n",
       "       'Bowling_Team'],\n",
       "      dtype='object')"
      ]
     },
     "execution_count": 4,
     "metadata": {},
     "output_type": "execute_result"
    }
   ],
   "source": [
    "df.columns"
   ]
  },
  {
   "cell_type": "code",
   "execution_count": 5,
   "id": "a6558e7e-56fd-43c3-868b-61b9d48b9525",
   "metadata": {},
   "outputs": [
    {
     "data": {
      "text/plain": [
       "(126, 73)"
      ]
     },
     "execution_count": 5,
     "metadata": {},
     "output_type": "execute_result"
    }
   ],
   "source": [
    "new_df1 = pd.read_csv('1799-Innings1-OverHistory.csv')\n",
    "new_df1.shape"
   ]
  },
  {
   "cell_type": "code",
   "execution_count": 6,
   "id": "d85591cf-fbdc-43d0-8d67-0a088c5ca6f9",
   "metadata": {},
   "outputs": [
    {
     "data": {
      "text/plain": [
       "(126, 73)"
      ]
     },
     "execution_count": 6,
     "metadata": {},
     "output_type": "execute_result"
    }
   ],
   "source": [
    "new_df2 = pd.read_csv('1799-Innings1-OverHistory.csv')\n",
    "new_df2.shape"
   ]
  },
  {
   "cell_type": "code",
   "execution_count": 7,
   "id": "e58472d4-dede-453c-b4c3-e790babd3cf9",
   "metadata": {},
   "outputs": [
    {
     "data": {
      "text/plain": [
       "(252, 73)"
      ]
     },
     "execution_count": 7,
     "metadata": {},
     "output_type": "execute_result"
    }
   ],
   "source": [
    "new_df = pd.concat([new_df1, new_df2], ignore_index=True)\n",
    "new_df.shape"
   ]
  },
  {
   "cell_type": "code",
   "execution_count": 8,
   "id": "5d8ab0d6-5f59-4fad-9822-3373ee4d59c2",
   "metadata": {},
   "outputs": [
    {
     "data": {
      "text/plain": [
       "Index(['BallID', 'BallUniqueID', 'ActualBallNo', 'MatchID', 'InningsNo',\n",
       "       'BattingTeamID', 'TeamName', 'StrikerID', 'NonStrikerID', 'BatsManName',\n",
       "       'BowlerID', 'BowlerName', 'BowlerType', 'OverNo', 'OverName', 'BallNo',\n",
       "       'Runs', 'BallRuns', 'RunsText', 'ActualRuns', 'IsOne', 'IsTwo',\n",
       "       'IsThree', 'IsDotball', 'Extras', 'IsWide', 'IsNoBall', 'IsBye',\n",
       "       'IsLegBye', 'IsFour', 'IsSix', 'IsWicket', 'WicketType', 'Wickets',\n",
       "       'VideoFile', 'IsBowlerWicket', 'CommentOver', 'BallName',\n",
       "       'CommentStrikers', 'NewCommentry', 'Commentry', 'UPDCommentry', 'Day',\n",
       "       'SESSION_NO', 'IsExtra', 'OutBatsManID', 'SNO', 'Xpitch', 'Ypitch',\n",
       "       'RunRuns', 'IsMaiden', 'OverImage', 'BowlTypeID', 'BowlTypeName',\n",
       "       'ShotTypeID', 'ShotType', 'IsBouncer', 'IsFreeHit', 'BallCount',\n",
       "       'BCCheck', 'TotalRuns', 'TotalWickets', 'BOWLING_LINE_ID',\n",
       "       'BOWLING_LENGTH_ID', 'FiveHaul', 'HatCheck', 'Flag', 'FlagSet',\n",
       "       'PenaltyRuns', 'IsFifty', 'IsHundred', 'IsTwoHundred', 'IsHattrick'],\n",
       "      dtype='object')"
      ]
     },
     "execution_count": 8,
     "metadata": {},
     "output_type": "execute_result"
    }
   ],
   "source": [
    "new_df.columns"
   ]
  },
  {
   "cell_type": "code",
   "execution_count": 9,
   "id": "60d65812-3e83-4c0e-88af-54955597f8ba",
   "metadata": {},
   "outputs": [],
   "source": [
    "new_df = new_df.dropna(subset=['BallID'])"
   ]
  },
  {
   "cell_type": "code",
   "execution_count": 10,
   "id": "9a0fc98f-d155-417b-8e72-c7e888daceaf",
   "metadata": {},
   "outputs": [
    {
     "data": {
      "text/plain": [
       "BallID          0\n",
       "BallUniqueID    0\n",
       "ActualBallNo    0\n",
       "MatchID         0\n",
       "InningsNo       0\n",
       "               ..\n",
       "PenaltyRuns     0\n",
       "IsFifty         0\n",
       "IsHundred       0\n",
       "IsTwoHundred    0\n",
       "IsHattrick      0\n",
       "Length: 73, dtype: int64"
      ]
     },
     "execution_count": 10,
     "metadata": {},
     "output_type": "execute_result"
    }
   ],
   "source": [
    "new_df.isnull().sum()"
   ]
  },
  {
   "cell_type": "code",
   "execution_count": 11,
   "id": "fec74e66-a17d-4574-aa71-ac45e0db7028",
   "metadata": {},
   "outputs": [
    {
     "data": {
      "text/plain": [
       "(248, 73)"
      ]
     },
     "execution_count": 11,
     "metadata": {},
     "output_type": "execute_result"
    }
   ],
   "source": [
    "new_df.shape"
   ]
  },
  {
   "cell_type": "code",
   "execution_count": 12,
   "id": "6f330c2a-24e5-48e8-8a7c-32aa15c3d9c9",
   "metadata": {},
   "outputs": [
    {
     "data": {
      "text/plain": [
       "(248, 74)"
      ]
     },
     "execution_count": 12,
     "metadata": {},
     "output_type": "execute_result"
    }
   ],
   "source": [
    "new_df['Real Run'] = new_df['ActualRuns'] + new_df['Extras']\n",
    "new_df.shape"
   ]
  },
  {
   "cell_type": "code",
   "execution_count": 13,
   "id": "d61865b9-2cca-43b0-9ea4-0909f9bb6338",
   "metadata": {},
   "outputs": [],
   "source": [
    "new_df.drop(columns=['SESSION_NO', 'OutBatsManID', 'NonStrikerID', 'HatCheck', 'OverImage',\n",
    "                     'FlagSet', 'Flag', 'Day', 'Commentry', 'BowlerID', 'VideoFile', \n",
    "                     'UPDCommentry', 'StrikerID'], inplace=True)"
   ]
  },
  {
   "cell_type": "code",
   "execution_count": 14,
   "id": "03cbd92c-c940-4bb2-a1b9-7565b7eabd25",
   "metadata": {},
   "outputs": [],
   "source": [
    "new_df['Season'] = 2025"
   ]
  },
  {
   "cell_type": "code",
   "execution_count": 16,
   "id": "7f3f38ca-5183-4027-8b80-714a726cb8ef",
   "metadata": {},
   "outputs": [
    {
     "data": {
      "text/plain": [
       "Index(['CompetitionID', 'MatchID', 'MatchTypeID', 'MatchType', 'MatchStatus',\n",
       "       'MatchDate', 'MatchDateNew', 'MatchName', 'MatchTime', 'GMTMatchTime',\n",
       "       ...\n",
       "       '3rdProjectedScore', 'MOM', 'MOM_TYPE', 'MOMPlayerId', 'MOMRuns',\n",
       "       'MOMBalls', 'MOMWicket', 'MOMRC', 'MOMImage', 'KO'],\n",
       "      dtype='object', length=156)"
      ]
     },
     "execution_count": 16,
     "metadata": {},
     "output_type": "execute_result"
    }
   ],
   "source": [
    "matchsummary_df = pd.read_csv('203-matchschedule-MatchSummary.csv')\n",
    "matchsummary_df.columns"
   ]
  },
  {
   "cell_type": "code",
   "execution_count": 17,
   "id": "f99f1a50-be37-4e61-b93d-b11b464ef257",
   "metadata": {},
   "outputs": [],
   "source": [
    "# Merge new_df with matchsummary_df on MatchID\n",
    "merged_df = new_df.merge(matchsummary_df[['MatchID', 'FirstBattingTeamID', 'FirstBattingTeamName', \n",
    "                                          'SecondBattingTeamID', 'SecondBattingTeamName']], on='MatchID', how='left')\n",
    "\n",
    "# Determine the Bowling Team\n",
    "merged_df['Bowling_Team'] = merged_df.apply(\n",
    "    lambda row: row['SecondBattingTeamName'] if row['BattingTeamID'] == row['FirstBattingTeamID'] \n",
    "    else row['FirstBattingTeamName'], axis=1\n",
    ")\n",
    "\n",
    "# Drop unnecessary columns if needed\n",
    "new_df = merged_df.drop(columns=['FirstBattingTeamID', 'FirstBattingTeamName', \n",
    "                                 'SecondBattingTeamID', 'SecondBattingTeamName'])"
   ]
  },
  {
   "cell_type": "code",
   "execution_count": 18,
   "id": "9b50f64a-ec70-4550-9e59-28462f68db50",
   "metadata": {},
   "outputs": [
    {
     "data": {
      "text/plain": [
       "Index(['BallID', 'BallUniqueID', 'ActualBallNo', 'MatchID', 'InningsNo',\n",
       "       'BattingTeamID', 'TeamName', 'BatsManName', 'BowlerName', 'BowlerType',\n",
       "       'OverNo', 'OverName', 'BallNo', 'Runs', 'BallRuns', 'RunsText',\n",
       "       'ActualRuns', 'IsOne', 'IsTwo', 'IsThree', 'IsDotball', 'Extras',\n",
       "       'IsWide', 'IsNoBall', 'IsBye', 'IsLegBye', 'IsFour', 'IsSix',\n",
       "       'IsWicket', 'WicketType', 'Wickets', 'IsBowlerWicket', 'CommentOver',\n",
       "       'BallName', 'CommentStrikers', 'NewCommentry', 'IsExtra', 'SNO',\n",
       "       'Xpitch', 'Ypitch', 'RunRuns', 'IsMaiden', 'BowlTypeID', 'BowlTypeName',\n",
       "       'ShotTypeID', 'ShotType', 'IsBouncer', 'IsFreeHit', 'BallCount',\n",
       "       'BCCheck', 'TotalRuns', 'TotalWickets', 'BOWLING_LINE_ID',\n",
       "       'BOWLING_LENGTH_ID', 'FiveHaul', 'PenaltyRuns', 'IsFifty', 'IsHundred',\n",
       "       'IsTwoHundred', 'IsHattrick', 'Real Run', 'Season', 'Bowling_Team'],\n",
       "      dtype='object')"
      ]
     },
     "execution_count": 18,
     "metadata": {},
     "output_type": "execute_result"
    }
   ],
   "source": [
    "new_df.columns"
   ]
  },
  {
   "cell_type": "code",
   "execution_count": 19,
   "id": "e6effa28-8ca0-4ecd-82c1-683f71551fd5",
   "metadata": {},
   "outputs": [],
   "source": [
    "new_df.to_csv('2025_data.csv', index=False)"
   ]
  },
  {
   "cell_type": "code",
   "execution_count": 20,
   "id": "f4371d56-d6f7-4e60-849d-ab4dcf908a71",
   "metadata": {},
   "outputs": [
    {
     "data": {
      "text/plain": [
       "(52878, 63)"
      ]
     },
     "execution_count": 20,
     "metadata": {},
     "output_type": "execute_result"
    }
   ],
   "source": [
    "df.shape"
   ]
  },
  {
   "cell_type": "code",
   "execution_count": 21,
   "id": "e07d35c1-7aa4-4d13-b930-bf8040816ef6",
   "metadata": {},
   "outputs": [
    {
     "data": {
      "text/plain": [
       "(248, 63)"
      ]
     },
     "execution_count": 21,
     "metadata": {},
     "output_type": "execute_result"
    }
   ],
   "source": [
    "new_df.shape"
   ]
  },
  {
   "cell_type": "code",
   "execution_count": 22,
   "id": "4fa79b17-f4ab-4cc2-a2bd-0eec0f81dd20",
   "metadata": {},
   "outputs": [
    {
     "data": {
      "text/plain": [
       "(53126, 63)"
      ]
     },
     "execution_count": 22,
     "metadata": {},
     "output_type": "execute_result"
    }
   ],
   "source": [
    "df = pd.concat([df, new_df], ignore_index=True)\n",
    "df.shape"
   ]
  },
  {
   "cell_type": "code",
   "execution_count": 23,
   "id": "c3d114a0-26e3-411b-8239-c222e095115c",
   "metadata": {},
   "outputs": [],
   "source": [
    "df.to_csv('Final_data_2022-2025.csv', index=False)"
   ]
  },
  {
   "cell_type": "code",
   "execution_count": null,
   "id": "04cdf5d6-cb96-4522-b612-099cd443eb89",
   "metadata": {},
   "outputs": [],
   "source": []
  }
 ],
 "metadata": {
  "kernelspec": {
   "display_name": "Python 3 (ipykernel)",
   "language": "python",
   "name": "python3"
  },
  "language_info": {
   "codemirror_mode": {
    "name": "ipython",
    "version": 3
   },
   "file_extension": ".py",
   "mimetype": "text/x-python",
   "name": "python",
   "nbconvert_exporter": "python",
   "pygments_lexer": "ipython3",
   "version": "3.10.10"
  }
 },
 "nbformat": 4,
 "nbformat_minor": 5
}
