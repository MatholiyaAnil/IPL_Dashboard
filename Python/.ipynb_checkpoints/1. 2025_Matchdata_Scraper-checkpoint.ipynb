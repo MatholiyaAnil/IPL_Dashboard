{
 "cells": [
  {
   "cell_type": "code",
   "execution_count": 1,
   "id": "c85c6e57-218b-4a85-9478-eeaacda9fcf0",
   "metadata": {},
   "outputs": [
    {
     "name": "stdout",
     "output_type": "stream",
     "text": [
      "1799-Innings1-OverHistory.csv\n"
     ]
    }
   ],
   "source": [
    "import requests\n",
    "import json\n",
    "import re\n",
    "import pandas as pd\n",
    "\n",
    "base_url = 'https://ipl-stats-sports-mechanic.s3.ap-south-1.amazonaws.com/ipl/feeds/'\n",
    "\n",
    "Matchid = [1799]\n",
    "\n",
    "new_urls = [f'{base_url}{match_id}-Innings1.js' for match_id in Matchid]\n",
    "\n",
    "for url in new_urls:\n",
    "    response = requests.get(url)\n",
    "\n",
    "    # Assuming the response text is stored in a variable called 'response'\n",
    "    start_index = response.text.find('(') + 1\n",
    "    end_index = response.text.rfind(')')\n",
    "\n",
    "    json_data = response.text[start_index:end_index]\n",
    "    data = json.loads(json_data)\n",
    "\n",
    "    if \"OverHistory\" in data[\"Innings1\"]:\n",
    "        over_history = data[\"Innings1\"][\"OverHistory\"]\n",
    "\n",
    "        # Create a list of dictionaries representing rows\n",
    "        rows = []\n",
    "        for item in over_history:\n",
    "            rows.append(item)\n",
    "\n",
    "        df = pd.DataFrame(rows)\n",
    "\n",
    "        # Save DataFrame as CSV with the file name derived from the test URL\n",
    "        file_name = re.search(r'/(\\d+-\\w+)\\.', url).group(1)  # Extracts '1045-Innings1' from the URL\n",
    "        csv_file_name = f\"{file_name}-OverHistory.csv\"  # Append 'OverHistory' to the file name\n",
    "        df.to_csv(csv_file_name, index=False)\n",
    "\n",
    "        print(f\"{csv_file_name}\")\n"
   ]
  },
  {
   "cell_type": "code",
   "execution_count": 2,
   "id": "f4ca1223-e514-40a9-b783-25dd64248dfe",
   "metadata": {},
   "outputs": [
    {
     "name": "stdout",
     "output_type": "stream",
     "text": [
      "1799-Innings2-OverHistory.csv\n"
     ]
    }
   ],
   "source": [
    "import requests\n",
    "import json\n",
    "import re\n",
    "import pandas as pd\n",
    "\n",
    "base_url = 'https://ipl-stats-sports-mechanic.s3.ap-south-1.amazonaws.com/ipl/feeds/'\n",
    "\n",
    "Matchid = [1799]\n",
    "\n",
    "new_urls = [f'{base_url}{match_id}-Innings2.js' for match_id in Matchid]\n",
    "\n",
    "for url in new_urls:\n",
    "    response = requests.get(url)\n",
    "\n",
    "    # Assuming the response text is stored in a variable called 'response'\n",
    "    start_index = response.text.find('(') + 1\n",
    "    end_index = response.text.rfind(')')\n",
    "\n",
    "    json_data = response.text[start_index:end_index]\n",
    "    data = json.loads(json_data)\n",
    "\n",
    "    if \"OverHistory\" in data[\"Innings2\"]:\n",
    "        over_history = data[\"Innings2\"][\"OverHistory\"]\n",
    "\n",
    "        # Create a list of dictionaries representing rows\n",
    "        rows = []\n",
    "        for item in over_history:\n",
    "            rows.append(item)\n",
    "\n",
    "        df = pd.DataFrame(rows)\n",
    "\n",
    "        # Save DataFrame as CSV with the file name derived from the test URL\n",
    "        file_name = re.search(r'/(\\d+-\\w+)\\.', url).group(1)  # Extracts '1045-Innings2' from the URL\n",
    "        csv_file_name = f\"{file_name}-OverHistory.csv\"  # Append 'OverHistory' to the file name\n",
    "        df.to_csv(csv_file_name, index=False)\n",
    "\n",
    "        print(f\"{csv_file_name}\")\n"
   ]
  },
  {
   "cell_type": "code",
   "execution_count": null,
   "id": "99e4e870-8fcc-4d46-9ac8-b7df4e78e398",
   "metadata": {},
   "outputs": [],
   "source": []
  }
 ],
 "metadata": {
  "kernelspec": {
   "display_name": "Python 3 (ipykernel)",
   "language": "python",
   "name": "python3"
  },
  "language_info": {
   "codemirror_mode": {
    "name": "ipython",
    "version": 3
   },
   "file_extension": ".py",
   "mimetype": "text/x-python",
   "name": "python",
   "nbconvert_exporter": "python",
   "pygments_lexer": "ipython3",
   "version": "3.10.10"
  }
 },
 "nbformat": 4,
 "nbformat_minor": 5
}
