{
 "cells": [
  {
   "cell_type": "code",
   "execution_count": 1,
   "id": "b5bfd4de-6d62-4906-b2c7-b44f0eccc164",
   "metadata": {},
   "outputs": [],
   "source": [
    "import pandas as pd\n",
    "import numpy as np\n",
    "import seaborn as sns\n",
    "import matplotlib.pyplot as plt"
   ]
  },
  {
   "cell_type": "code",
   "execution_count": 2,
   "id": "1553f49b-434f-47d0-9860-c3c9a4b18893",
   "metadata": {},
   "outputs": [
    {
     "data": {
      "text/plain": [
       "(52878, 60)"
      ]
     },
     "execution_count": 2,
     "metadata": {},
     "output_type": "execute_result"
    }
   ],
   "source": [
    "df = pd.read_csv('Final_data_2022-2024.csv')\n",
    "df.shape"
   ]
  },
  {
   "cell_type": "code",
   "execution_count": 4,
   "id": "d9301961-216a-4483-a718-01a1168c12cd",
   "metadata": {},
   "outputs": [
    {
     "data": {
      "text/plain": [
       "(222, 66)"
      ]
     },
     "execution_count": 4,
     "metadata": {},
     "output_type": "execute_result"
    }
   ],
   "source": [
    "df1 = pd.read_csv('Match_Summary.csv')\n",
    "df1.shape"
   ]
  },
  {
   "cell_type": "code",
   "execution_count": 9,
   "id": "528fffc6-e0f5-4f44-94d3-66378d6fac8e",
   "metadata": {},
   "outputs": [
    {
     "name": "stdout",
     "output_type": "stream",
     "text": [
      "   MatchID             TeamName FirstBattingTeamName SecondBattingTeamName  \\\n",
      "0     1043  Chennai Super Kings  Chennai Super Kings        Gujarat Titans   \n",
      "1     1043  Chennai Super Kings  Chennai Super Kings        Gujarat Titans   \n",
      "2     1043  Chennai Super Kings  Chennai Super Kings        Gujarat Titans   \n",
      "3     1043  Chennai Super Kings  Chennai Super Kings        Gujarat Titans   \n",
      "4     1043  Chennai Super Kings  Chennai Super Kings        Gujarat Titans   \n",
      "\n",
      "     Bowling_Team  \n",
      "0  Gujarat Titans  \n",
      "1  Gujarat Titans  \n",
      "2  Gujarat Titans  \n",
      "3  Gujarat Titans  \n",
      "4  Gujarat Titans  \n"
     ]
    }
   ],
   "source": [
    "# Merge the DataFrames on MatchID\n",
    "merged_df = pd.merge(df, df1, on=\"MatchID\", how=\"left\")\n",
    "\n",
    "# Add the Bowling_Team column\n",
    "merged_df['Bowling_Team'] = merged_df.apply(\n",
    "    lambda row: row['SecondBattingTeamName'] if row['TeamName'] == row['FirstBattingTeamName'] else row['FirstBattingTeamName'],\n",
    "    axis=1\n",
    ")\n",
    "\n",
    "# Display the relevant columns to verify\n",
    "print(merged_df[['MatchID', 'TeamName', 'FirstBattingTeamName', 'SecondBattingTeamName', 'Bowling_Team']].head())"
   ]
  },
  {
   "cell_type": "code",
   "execution_count": 10,
   "id": "2792d86a-3f08-4798-b70a-0e12823cbb7a",
   "metadata": {},
   "outputs": [],
   "source": [
    "# If you want to keep only the original DataFrame structure with the new column:\n",
    "df['Bowling_Team'] = merged_df['Bowling_Team']"
   ]
  },
  {
   "cell_type": "code",
   "execution_count": 11,
   "id": "f42cc924-4ba9-4efb-ba07-4ed7a0b1a474",
   "metadata": {},
   "outputs": [
    {
     "data": {
      "text/plain": [
       "(52878, 61)"
      ]
     },
     "execution_count": 11,
     "metadata": {},
     "output_type": "execute_result"
    }
   ],
   "source": [
    "df.shape"
   ]
  },
  {
   "cell_type": "code",
   "execution_count": 12,
   "id": "4954013d-9477-4b5e-9c2f-ba49240f7a74",
   "metadata": {},
   "outputs": [
    {
     "name": "stdout",
     "output_type": "stream",
     "text": [
      "Data exported successfully to Final_data_2022-2024.csv\n"
     ]
    }
   ],
   "source": [
    "# Export the modified df with the Bowling_Team column\n",
    "df.to_csv('Final_data_2022-2024.csv', index=False)\n",
    "\n",
    "print(\"Data exported successfully to Final_data_2022-2024.csv\")"
   ]
  },
  {
   "cell_type": "code",
   "execution_count": null,
   "id": "e16cd605-95ec-40d8-b32c-dda00ab8fed9",
   "metadata": {},
   "outputs": [],
   "source": []
  }
 ],
 "metadata": {
  "kernelspec": {
   "display_name": "Python 3 (ipykernel)",
   "language": "python",
   "name": "python3"
  },
  "language_info": {
   "codemirror_mode": {
    "name": "ipython",
    "version": 3
   },
   "file_extension": ".py",
   "mimetype": "text/x-python",
   "name": "python",
   "nbconvert_exporter": "python",
   "pygments_lexer": "ipython3",
   "version": "3.10.10"
  }
 },
 "nbformat": 4,
 "nbformat_minor": 5
}
