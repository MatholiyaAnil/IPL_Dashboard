{
 "cells": [
  {
   "cell_type": "code",
   "execution_count": 1,
   "id": "e142ba28-5928-4751-bdaf-96be6916b44e",
   "metadata": {},
   "outputs": [],
   "source": [
    "import requests\n",
    "import json\n",
    "import re\n",
    "import pandas as pd\n",
    "from concurrent.futures import ThreadPoolExecutor"
   ]
  },
  {
   "cell_type": "code",
   "execution_count": 2,
   "id": "309f3a9c-e33a-4671-8ce9-48aeb96757a6",
   "metadata": {},
   "outputs": [],
   "source": [
    "# Base URL for fetching data\n",
    "BASE_URL = 'https://ipl-stats-sports-mechanic.s3.ap-south-1.amazonaws.com/ipl/feeds/'"
   ]
  },
  {
   "cell_type": "code",
   "execution_count": 3,
   "id": "ae4430b6-6d15-4614-bde1-a816bf97c55a",
   "metadata": {},
   "outputs": [],
   "source": [
    "# List of match IDs\n",
    "MATCH_IDS = [1799]"
   ]
  },
  {
   "cell_type": "code",
   "execution_count": 4,
   "id": "1f65a12f-37f0-49a3-9d56-2b0d5956a9d4",
   "metadata": {},
   "outputs": [
    {
     "data": {
      "text/plain": [
       "['https://ipl-stats-sports-mechanic.s3.ap-south-1.amazonaws.com/ipl/feeds/1799-squad.js']"
      ]
     },
     "execution_count": 4,
     "metadata": {},
     "output_type": "execute_result"
    }
   ],
   "source": [
    "# Generate full URLs\n",
    "URLS = [f'{BASE_URL}{match_id}-squad.js' for match_id in MATCH_IDS]\n",
    "URLS"
   ]
  },
  {
   "cell_type": "code",
   "execution_count": 5,
   "id": "63e70cf4-0197-4846-a4e5-246bc725e769",
   "metadata": {},
   "outputs": [],
   "source": [
    "# Headers to mimic a real browser\n",
    "HEADERS = {\n",
    "    \"User-Agent\": (\n",
    "        \"Mozilla/5.0 (Windows NT 10.0; Win64; x64) AppleWebKit/537.36 \"\n",
    "        \"(KHTML, like Gecko) Chrome/114.0.0.0 Safari/537.36\"\n",
    "    )\n",
    "}"
   ]
  },
  {
   "cell_type": "code",
   "execution_count": 6,
   "id": "f87033e7-abb3-46d6-be6f-66f3557b7b89",
   "metadata": {},
   "outputs": [],
   "source": [
    "# Columns to drop\n",
    "DROP_COLUMNS = [\"PlayerShortName\", \"ClientPlayerID\", \"PlayingOrder\", \"Squad\"]"
   ]
  },
  {
   "cell_type": "code",
   "execution_count": 7,
   "id": "967812ae-4099-4a34-91b1-aab8004f0898",
   "metadata": {},
   "outputs": [],
   "source": [
    "def fetch_and_process_data(url):\n",
    "    try:\n",
    "        response = requests.get(url, headers=HEADERS)\n",
    "        response.raise_for_status()\n",
    "\n",
    "        # Parse JSON data\n",
    "        start_index = response.text.find('(') + 1\n",
    "        end_index = response.text.rfind(')')\n",
    "        json_data = response.text[start_index:end_index]\n",
    "        data = json.loads(json_data)\n",
    "\n",
    "        match_id = re.search(r'(\\d+)-squad.js', url).group(1)\n",
    "\n",
    "        dfs = []  # List to store DataFrames\n",
    "\n",
    "        # Extract and clean squadA data\n",
    "        if \"squadA\" in data:\n",
    "            df_squadA = pd.DataFrame(data[\"squadA\"])\n",
    "            dfs.append(df_squadA)\n",
    "\n",
    "        # Extract and clean squadB data\n",
    "        if \"squadB\" in data:\n",
    "            df_squadB = pd.DataFrame(data[\"squadB\"])\n",
    "            dfs.append(df_squadB)\n",
    "\n",
    "        # Combine both squads\n",
    "        if dfs:\n",
    "            combined_df = pd.concat(dfs, ignore_index=True)\n",
    "\n",
    "            # Remove unwanted columns\n",
    "            combined_df.drop(columns=[col for col in DROP_COLUMNS if col in combined_df.columns], inplace=True)\n",
    "\n",
    "            # Add \"Season\" column with value 2025\n",
    "            combined_df[\"Season\"] = 2025\n",
    "\n",
    "            # Save the cleaned data\n",
    "            combined_file = f\"{match_id}-Squad.csv\"\n",
    "            combined_df.to_csv(combined_file, index=False)\n",
    "            print(f\"Saved Combined Squad File: {combined_file}\")\n",
    "\n",
    "    except requests.exceptions.RequestException as e:\n",
    "        print(f\"Request failed for {url}: {e}\")\n",
    "    except json.JSONDecodeError as e:\n",
    "        print(f\"Failed to parse JSON for {url}: {e}\")\n",
    "    except KeyError as e:\n",
    "        print(f\"KeyError: Missing expected key in the JSON data for {url}: {e}\")\n",
    "    except Exception as e:\n",
    "        print(f\"An error occurred for {url}: {e}\")"
   ]
  },
  {
   "cell_type": "code",
   "execution_count": 8,
   "id": "54a15755-9c2b-4d83-ac57-f46b109e8fd3",
   "metadata": {},
   "outputs": [
    {
     "name": "stdout",
     "output_type": "stream",
     "text": [
      "Saved Combined Squad File: 1799-Squad.csv\n"
     ]
    }
   ],
   "source": [
    "# Use ThreadPoolExecutor for parallel processing\n",
    "with ThreadPoolExecutor(max_workers=10) as executor:\n",
    "    executor.map(fetch_and_process_data, URLS)"
   ]
  },
  {
   "cell_type": "code",
   "execution_count": 10,
   "id": "1a130147-db18-4093-a73e-f07b41e75f72",
   "metadata": {},
   "outputs": [
    {
     "name": "stdout",
     "output_type": "stream",
     "text": [
      "(32, 15)\n"
     ]
    }
   ],
   "source": [
    "new_df = pd.read_csv(\"1799-Squad.csv\")\n",
    "new_df.shape"
   ]
  },
  {
   "cell_type": "code",
   "execution_count": 11,
   "id": "eb90fa2c-7582-486b-80c5-f42ca4d899d5",
   "metadata": {},
   "outputs": [
    {
     "data": {
      "text/plain": [
       "(660, 15)"
      ]
     },
     "execution_count": 11,
     "metadata": {},
     "output_type": "execute_result"
    }
   ],
   "source": [
    "# Load the extracted and cleaned squad data\n",
    "old_df = pd.read_csv(\"Old_data/Squad.csv\")\n",
    "old_df.shape"
   ]
  },
  {
   "cell_type": "code",
   "execution_count": 12,
   "id": "8957f414-6259-437c-8bd2-ba5580a565d7",
   "metadata": {},
   "outputs": [
    {
     "data": {
      "text/plain": [
       "(692, 15)"
      ]
     },
     "execution_count": 12,
     "metadata": {},
     "output_type": "execute_result"
    }
   ],
   "source": [
    "df = pd.concat([old_df, new_df], ignore_index=True)\n",
    "df.shape"
   ]
  },
  {
   "cell_type": "code",
   "execution_count": 13,
   "id": "274de652-804d-4713-822c-c7f3605a443c",
   "metadata": {},
   "outputs": [],
   "source": [
    "df.to_csv('Output/Squad.csv', index=False)"
   ]
  },
  {
   "cell_type": "code",
   "execution_count": null,
   "id": "fdd5b17f-201d-4313-9604-436b882aa142",
   "metadata": {},
   "outputs": [],
   "source": []
  }
 ],
 "metadata": {
  "kernelspec": {
   "display_name": "Python 3 (ipykernel)",
   "language": "python",
   "name": "python3"
  },
  "language_info": {
   "codemirror_mode": {
    "name": "ipython",
    "version": 3
   },
   "file_extension": ".py",
   "mimetype": "text/x-python",
   "name": "python",
   "nbconvert_exporter": "python",
   "pygments_lexer": "ipython3",
   "version": "3.10.10"
  }
 },
 "nbformat": 4,
 "nbformat_minor": 5
}
